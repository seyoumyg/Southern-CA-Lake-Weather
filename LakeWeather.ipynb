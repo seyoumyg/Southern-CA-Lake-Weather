{
 "cells": [
  {
   "cell_type": "code",
   "execution_count": 1,
   "id": "ef55c1fc-e6e8-4ac7-973c-8dc9baed1f8f",
   "metadata": {},
   "outputs": [],
   "source": [
    "import datetime\n",
    "import numpy as np\n",
    "import pandas as pd\n",
    "from ipywidgets import widgets\n",
    "import plotly.graph_objects as go\n",
    "from ipywidgets import Dropdown, VBox, HBox\n",
    "from IPython.display import display\n"
   ]
  },
  {
   "cell_type": "code",
   "execution_count": 2,
   "id": "6a4a412e-306d-46b6-a52b-23cd7da78a53",
   "metadata": {},
   "outputs": [],
   "source": [
    "# Read data set\n",
    "df1 = pd.read_csv (\"Daily_179.csv\")\n",
    "df2 = pd.read_csv (\"Daily_192.csv\")\n",
    "df3 = pd.read_csv (\"Daily_204.csv\")\n",
    "df4 = pd.read_csv (\"Daily_240.csv\")\n",
    "df = pd.concat([df1,df2,df3,df4])\n"
   ]
  },
  {
   "cell_type": "code",
   "execution_count": 3,
   "id": "4297aa47-a022-4a5e-ac74-057eb3f9ef53",
   "metadata": {},
   "outputs": [],
   "source": [
    "target_cols = ['Stn Name', 'Date', 'Precip (in)', 'Max Air Temp (F)', 'Min Air Temp (F)', 'Avg Air Temp (F)', 'Avg Rel Hum (%)','Avg Wind Speed (mph)']\n",
    "dff= df[target_cols]\n",
    "#dff['Date'] = pd.to_datetime(dff['Date'], format='%m/%d/%Y').dt.floor('D')\n",
    "df_long = pd.melt(dff, id_vars=['Stn Name', 'Date'], \n",
    "                  value_vars=['Precip (in)', 'Max Air Temp (F)', 'Min Air Temp (F)', 'Avg Air Temp (F)', 'Avg Rel Hum (%)','Avg Wind Speed (mph)']).dropna()"
   ]
  },
  {
   "cell_type": "code",
   "execution_count": 4,
   "id": "f3c5d5e4-4da9-4a17-a593-a40b4389155f",
   "metadata": {},
   "outputs": [],
   "source": [
    "station_dropdown = widgets.Dropdown(\n",
    "    options=df_long['Stn Name'].unique().tolist(),\n",
    "    value='Diamond Valley Lake',\n",
    "    description='Lake:'\n",
    ")\n",
    "\n",
    "variable_dropdown = widgets.Dropdown(\n",
    "    options=df_long['variable'].unique().tolist(),\n",
    "    value='Precip (in)',\n",
    "    description='Variable:'\n",
    ")\n",
    "\n"
   ]
  },
  {
   "cell_type": "code",
   "execution_count": 5,
   "id": "d43987d8-d1b7-4f49-b211-da1591136b91",
   "metadata": {},
   "outputs": [],
   "source": [
    "# Update plot function\n",
    "def update_plot(*args):\n",
    "    source = station_dropdown.value\n",
    "    parameter = variable_dropdown.value\n",
    "    \n",
    "    filtered = df_long[(df_long['Stn Name'] == source) & (df_long['variable'] == parameter)][['Date', 'value']]\n",
    "        #.sort_values('Date')\n",
    "    #filtered['Date'] = pd.to_datetime(filtered['Date'])\n",
    "    with fig.batch_update():\n",
    "        fig.data[0].x = list(filtered['Date'])\n",
    "        fig.data[0].y = list(filtered['value'])\n",
    "        fig.layout.yaxis.title = parameter\n",
    "        fig.layout.title = f'{parameter} from {source}'"
   ]
  },
  {
   "cell_type": "code",
   "execution_count": 6,
   "id": "e1cc913a-7818-4aaf-95e5-a67560ab64ad",
   "metadata": {},
   "outputs": [],
   "source": [
    "# Observe dropdown changes\n",
    "station_dropdown.observe(update_plot, names='value')\n",
    "variable_dropdown.observe(update_plot, names='value')\n",
    "#zoom_slider.observe(update_zoom, names='value')"
   ]
  },
  {
   "cell_type": "code",
   "execution_count": 7,
   "id": "7b30039c-4062-4776-b044-8a96af314476",
   "metadata": {},
   "outputs": [
    {
     "data": {
      "application/vnd.jupyter.widget-view+json": {
       "model_id": "271ae24a8b1c4061af8a37348505cb8b",
       "version_major": 2,
       "version_minor": 0
      },
      "text/plain": [
       "VBox(children=(HBox(children=(Dropdown(description='Lake:', options=('Diamond Valley Lake', 'Silverwood Lake',…"
      ]
     },
     "metadata": {},
     "output_type": "display_data"
    }
   ],
   "source": [
    "# Create FigureWidget\n",
    "fig = go.FigureWidget()\n",
    "fig.add_scatter(mode='lines')\n",
    "fig.update_layout(width=600, height=400,\n",
    "    xaxis=dict(\n",
    "        rangeselector=dict(\n",
    "            buttons=list([\n",
    "                dict(count=7,\n",
    "                     label=\"1 week\", # The 'step' is day, but the 'count' makes it a week\n",
    "                     step=\"day\",\n",
    "                     stepmode=\"backward\"),\n",
    "                dict(count=1,\n",
    "                     label=\"1 m\",\n",
    "                     step=\"month\",\n",
    "                     stepmode=\"backward\"),\n",
    "                dict(count=6,\n",
    "                     label=\"6 m\",\n",
    "                     step=\"month\",\n",
    "                     stepmode=\"backward\"),\n",
    "                dict(count=1,\n",
    "                     label=\"YTD\",\n",
    "                     step=\"year\",\n",
    "                     stepmode=\"todate\"),\n",
    "                dict(count=1,\n",
    "                     label=\"1 year\",\n",
    "                     step=\"year\",\n",
    "                     stepmode=\"backward\"),\n",
    "                dict(step=\"all\")\n",
    "            ])\n",
    "        ),\n",
    "        rangeslider=dict(\n",
    "            visible=True\n",
    "        ),\n",
    "        type=\"date\"\n",
    "    )\n",
    ")\n",
    "\n",
    "# Initial render\n",
    "\n",
    "update_plot()\n",
    "#fig.update_xaxes(\n",
    "#    tickformat=\"%Y-%m-%d\"  # Customize the date format here\n",
    "#)\n",
    "# Display with dropdowns on top\n",
    "ui = VBox([\n",
    "    HBox([station_dropdown, variable_dropdown]),\n",
    "    fig\n",
    "])\n",
    "display(ui)"
   ]
  }
 ],
 "metadata": {
  "kernelspec": {
   "display_name": "Python 3 (ipykernel)",
   "language": "python",
   "name": "python3"
  },
  "language_info": {
   "codemirror_mode": {
    "name": "ipython",
    "version": 3
   },
   "file_extension": ".py",
   "mimetype": "text/x-python",
   "name": "python",
   "nbconvert_exporter": "python",
   "pygments_lexer": "ipython3",
   "version": "3.11.13"
  }
 },
 "nbformat": 4,
 "nbformat_minor": 5
}
