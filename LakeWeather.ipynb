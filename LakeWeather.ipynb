{
  "cells": [
    {
      "cell_type": "markdown",
      "metadata": {
        "id": "view-in-github",
        "colab_type": "text"
      },
      "source": [
        "<a href=\"https://colab.research.google.com/github/seyoumyg/Southern-CA-Lake-Weather/blob/main/LakeWeather.ipynb\" target=\"_parent\"><img src=\"https://colab.research.google.com/assets/colab-badge.svg\" alt=\"Open In Colab\"/></a>"
      ]
    },
    {
      "cell_type": "code",
      "execution_count": 1,
      "id": "ef55c1fc-e6e8-4ac7-973c-8dc9baed1f8f",
      "metadata": {
        "id": "ef55c1fc-e6e8-4ac7-973c-8dc9baed1f8f"
      },
      "outputs": [],
      "source": [
        "import datetime\n",
        "import numpy as np\n",
        "import pandas as pd\n",
        "from ipywidgets import widgets\n",
        "import plotly.graph_objects as go\n",
        "from ipywidgets import Dropdown, VBox, HBox\n",
        "from IPython.display import display\n"
      ]
    },
    {
      "cell_type": "markdown",
      "source": [
        "# New Section"
      ],
      "metadata": {
        "id": "UAhychbhC6E5"
      },
      "id": "UAhychbhC6E5"
    },
    {
      "cell_type": "code",
      "execution_count": 2,
      "id": "6a4a412e-306d-46b6-a52b-23cd7da78a53",
      "metadata": {
        "id": "6a4a412e-306d-46b6-a52b-23cd7da78a53",
        "outputId": "fd3cf1ba-7f6e-4e61-db07-a851040a875d",
        "colab": {
          "base_uri": "https://localhost:8080/",
          "height": 356
        }
      },
      "outputs": [
        {
          "output_type": "error",
          "ename": "FileNotFoundError",
          "evalue": "[Errno 2] No such file or directory: 'Daily_179.csv'",
          "traceback": [
            "\u001b[0;31m---------------------------------------------------------------------------\u001b[0m",
            "\u001b[0;31mFileNotFoundError\u001b[0m                         Traceback (most recent call last)",
            "\u001b[0;32m/tmp/ipython-input-2-2704916542.py\u001b[0m in \u001b[0;36m<cell line: 0>\u001b[0;34m()\u001b[0m\n\u001b[1;32m      1\u001b[0m \u001b[0;31m# Read data set\u001b[0m\u001b[0;34m\u001b[0m\u001b[0;34m\u001b[0m\u001b[0m\n\u001b[0;32m----> 2\u001b[0;31m \u001b[0mdf1\u001b[0m \u001b[0;34m=\u001b[0m \u001b[0mpd\u001b[0m\u001b[0;34m.\u001b[0m\u001b[0mread_csv\u001b[0m \u001b[0;34m(\u001b[0m\u001b[0;34m\"Daily_179.csv\"\u001b[0m\u001b[0;34m)\u001b[0m\u001b[0;34m\u001b[0m\u001b[0;34m\u001b[0m\u001b[0m\n\u001b[0m\u001b[1;32m      3\u001b[0m \u001b[0mdf2\u001b[0m \u001b[0;34m=\u001b[0m \u001b[0mpd\u001b[0m\u001b[0;34m.\u001b[0m\u001b[0mread_csv\u001b[0m \u001b[0;34m(\u001b[0m\u001b[0;34m\"Daily_192.csv\"\u001b[0m\u001b[0;34m)\u001b[0m\u001b[0;34m\u001b[0m\u001b[0;34m\u001b[0m\u001b[0m\n\u001b[1;32m      4\u001b[0m \u001b[0mdf3\u001b[0m \u001b[0;34m=\u001b[0m \u001b[0mpd\u001b[0m\u001b[0;34m.\u001b[0m\u001b[0mread_csv\u001b[0m \u001b[0;34m(\u001b[0m\u001b[0;34m\"Daily_204.csv\"\u001b[0m\u001b[0;34m)\u001b[0m\u001b[0;34m\u001b[0m\u001b[0;34m\u001b[0m\u001b[0m\n\u001b[1;32m      5\u001b[0m \u001b[0mdf4\u001b[0m \u001b[0;34m=\u001b[0m \u001b[0mpd\u001b[0m\u001b[0;34m.\u001b[0m\u001b[0mread_csv\u001b[0m \u001b[0;34m(\u001b[0m\u001b[0;34m\"Daily_240.csv\"\u001b[0m\u001b[0;34m)\u001b[0m\u001b[0;34m\u001b[0m\u001b[0;34m\u001b[0m\u001b[0m\n",
            "\u001b[0;32m/usr/local/lib/python3.11/dist-packages/pandas/io/parsers/readers.py\u001b[0m in \u001b[0;36mread_csv\u001b[0;34m(filepath_or_buffer, sep, delimiter, header, names, index_col, usecols, dtype, engine, converters, true_values, false_values, skipinitialspace, skiprows, skipfooter, nrows, na_values, keep_default_na, na_filter, verbose, skip_blank_lines, parse_dates, infer_datetime_format, keep_date_col, date_parser, date_format, dayfirst, cache_dates, iterator, chunksize, compression, thousands, decimal, lineterminator, quotechar, quoting, doublequote, escapechar, comment, encoding, encoding_errors, dialect, on_bad_lines, delim_whitespace, low_memory, memory_map, float_precision, storage_options, dtype_backend)\u001b[0m\n\u001b[1;32m   1024\u001b[0m     \u001b[0mkwds\u001b[0m\u001b[0;34m.\u001b[0m\u001b[0mupdate\u001b[0m\u001b[0;34m(\u001b[0m\u001b[0mkwds_defaults\u001b[0m\u001b[0;34m)\u001b[0m\u001b[0;34m\u001b[0m\u001b[0;34m\u001b[0m\u001b[0m\n\u001b[1;32m   1025\u001b[0m \u001b[0;34m\u001b[0m\u001b[0m\n\u001b[0;32m-> 1026\u001b[0;31m     \u001b[0;32mreturn\u001b[0m \u001b[0m_read\u001b[0m\u001b[0;34m(\u001b[0m\u001b[0mfilepath_or_buffer\u001b[0m\u001b[0;34m,\u001b[0m \u001b[0mkwds\u001b[0m\u001b[0;34m)\u001b[0m\u001b[0;34m\u001b[0m\u001b[0;34m\u001b[0m\u001b[0m\n\u001b[0m\u001b[1;32m   1027\u001b[0m \u001b[0;34m\u001b[0m\u001b[0m\n\u001b[1;32m   1028\u001b[0m \u001b[0;34m\u001b[0m\u001b[0m\n",
            "\u001b[0;32m/usr/local/lib/python3.11/dist-packages/pandas/io/parsers/readers.py\u001b[0m in \u001b[0;36m_read\u001b[0;34m(filepath_or_buffer, kwds)\u001b[0m\n\u001b[1;32m    618\u001b[0m \u001b[0;34m\u001b[0m\u001b[0m\n\u001b[1;32m    619\u001b[0m     \u001b[0;31m# Create the parser.\u001b[0m\u001b[0;34m\u001b[0m\u001b[0;34m\u001b[0m\u001b[0m\n\u001b[0;32m--> 620\u001b[0;31m     \u001b[0mparser\u001b[0m \u001b[0;34m=\u001b[0m \u001b[0mTextFileReader\u001b[0m\u001b[0;34m(\u001b[0m\u001b[0mfilepath_or_buffer\u001b[0m\u001b[0;34m,\u001b[0m \u001b[0;34m**\u001b[0m\u001b[0mkwds\u001b[0m\u001b[0;34m)\u001b[0m\u001b[0;34m\u001b[0m\u001b[0;34m\u001b[0m\u001b[0m\n\u001b[0m\u001b[1;32m    621\u001b[0m \u001b[0;34m\u001b[0m\u001b[0m\n\u001b[1;32m    622\u001b[0m     \u001b[0;32mif\u001b[0m \u001b[0mchunksize\u001b[0m \u001b[0;32mor\u001b[0m \u001b[0miterator\u001b[0m\u001b[0;34m:\u001b[0m\u001b[0;34m\u001b[0m\u001b[0;34m\u001b[0m\u001b[0m\n",
            "\u001b[0;32m/usr/local/lib/python3.11/dist-packages/pandas/io/parsers/readers.py\u001b[0m in \u001b[0;36m__init__\u001b[0;34m(self, f, engine, **kwds)\u001b[0m\n\u001b[1;32m   1618\u001b[0m \u001b[0;34m\u001b[0m\u001b[0m\n\u001b[1;32m   1619\u001b[0m         \u001b[0mself\u001b[0m\u001b[0;34m.\u001b[0m\u001b[0mhandles\u001b[0m\u001b[0;34m:\u001b[0m \u001b[0mIOHandles\u001b[0m \u001b[0;34m|\u001b[0m \u001b[0;32mNone\u001b[0m \u001b[0;34m=\u001b[0m \u001b[0;32mNone\u001b[0m\u001b[0;34m\u001b[0m\u001b[0;34m\u001b[0m\u001b[0m\n\u001b[0;32m-> 1620\u001b[0;31m         \u001b[0mself\u001b[0m\u001b[0;34m.\u001b[0m\u001b[0m_engine\u001b[0m \u001b[0;34m=\u001b[0m \u001b[0mself\u001b[0m\u001b[0;34m.\u001b[0m\u001b[0m_make_engine\u001b[0m\u001b[0;34m(\u001b[0m\u001b[0mf\u001b[0m\u001b[0;34m,\u001b[0m \u001b[0mself\u001b[0m\u001b[0;34m.\u001b[0m\u001b[0mengine\u001b[0m\u001b[0;34m)\u001b[0m\u001b[0;34m\u001b[0m\u001b[0;34m\u001b[0m\u001b[0m\n\u001b[0m\u001b[1;32m   1621\u001b[0m \u001b[0;34m\u001b[0m\u001b[0m\n\u001b[1;32m   1622\u001b[0m     \u001b[0;32mdef\u001b[0m \u001b[0mclose\u001b[0m\u001b[0;34m(\u001b[0m\u001b[0mself\u001b[0m\u001b[0;34m)\u001b[0m \u001b[0;34m->\u001b[0m \u001b[0;32mNone\u001b[0m\u001b[0;34m:\u001b[0m\u001b[0;34m\u001b[0m\u001b[0;34m\u001b[0m\u001b[0m\n",
            "\u001b[0;32m/usr/local/lib/python3.11/dist-packages/pandas/io/parsers/readers.py\u001b[0m in \u001b[0;36m_make_engine\u001b[0;34m(self, f, engine)\u001b[0m\n\u001b[1;32m   1878\u001b[0m                 \u001b[0;32mif\u001b[0m \u001b[0;34m\"b\"\u001b[0m \u001b[0;32mnot\u001b[0m \u001b[0;32min\u001b[0m \u001b[0mmode\u001b[0m\u001b[0;34m:\u001b[0m\u001b[0;34m\u001b[0m\u001b[0;34m\u001b[0m\u001b[0m\n\u001b[1;32m   1879\u001b[0m                     \u001b[0mmode\u001b[0m \u001b[0;34m+=\u001b[0m \u001b[0;34m\"b\"\u001b[0m\u001b[0;34m\u001b[0m\u001b[0;34m\u001b[0m\u001b[0m\n\u001b[0;32m-> 1880\u001b[0;31m             self.handles = get_handle(\n\u001b[0m\u001b[1;32m   1881\u001b[0m                 \u001b[0mf\u001b[0m\u001b[0;34m,\u001b[0m\u001b[0;34m\u001b[0m\u001b[0;34m\u001b[0m\u001b[0m\n\u001b[1;32m   1882\u001b[0m                 \u001b[0mmode\u001b[0m\u001b[0;34m,\u001b[0m\u001b[0;34m\u001b[0m\u001b[0;34m\u001b[0m\u001b[0m\n",
            "\u001b[0;32m/usr/local/lib/python3.11/dist-packages/pandas/io/common.py\u001b[0m in \u001b[0;36mget_handle\u001b[0;34m(path_or_buf, mode, encoding, compression, memory_map, is_text, errors, storage_options)\u001b[0m\n\u001b[1;32m    871\u001b[0m         \u001b[0;32mif\u001b[0m \u001b[0mioargs\u001b[0m\u001b[0;34m.\u001b[0m\u001b[0mencoding\u001b[0m \u001b[0;32mand\u001b[0m \u001b[0;34m\"b\"\u001b[0m \u001b[0;32mnot\u001b[0m \u001b[0;32min\u001b[0m \u001b[0mioargs\u001b[0m\u001b[0;34m.\u001b[0m\u001b[0mmode\u001b[0m\u001b[0;34m:\u001b[0m\u001b[0;34m\u001b[0m\u001b[0;34m\u001b[0m\u001b[0m\n\u001b[1;32m    872\u001b[0m             \u001b[0;31m# Encoding\u001b[0m\u001b[0;34m\u001b[0m\u001b[0;34m\u001b[0m\u001b[0m\n\u001b[0;32m--> 873\u001b[0;31m             handle = open(\n\u001b[0m\u001b[1;32m    874\u001b[0m                 \u001b[0mhandle\u001b[0m\u001b[0;34m,\u001b[0m\u001b[0;34m\u001b[0m\u001b[0;34m\u001b[0m\u001b[0m\n\u001b[1;32m    875\u001b[0m                 \u001b[0mioargs\u001b[0m\u001b[0;34m.\u001b[0m\u001b[0mmode\u001b[0m\u001b[0;34m,\u001b[0m\u001b[0;34m\u001b[0m\u001b[0;34m\u001b[0m\u001b[0m\n",
            "\u001b[0;31mFileNotFoundError\u001b[0m: [Errno 2] No such file or directory: 'Daily_179.csv'"
          ]
        }
      ],
      "source": [
        "# Read data set\n",
        "df1 = pd.read_csv (\"Daily_179.csv\")\n",
        "df2 = pd.read_csv (\"Daily_192.csv\")\n",
        "df3 = pd.read_csv (\"Daily_204.csv\")\n",
        "df4 = pd.read_csv (\"Daily_240.csv\")\n",
        "df = pd.concat([df1,df2,df3,df4])\n"
      ]
    },
    {
      "cell_type": "code",
      "execution_count": null,
      "id": "4297aa47-a022-4a5e-ac74-057eb3f9ef53",
      "metadata": {
        "id": "4297aa47-a022-4a5e-ac74-057eb3f9ef53"
      },
      "outputs": [],
      "source": [
        "target_cols = ['Stn Name', 'Date', 'Precip (in)', 'Max Air Temp (F)', 'Min Air Temp (F)', 'Avg Air Temp (F)', 'Avg Rel Hum (%)','Avg Wind Speed (mph)']\n",
        "dff= df[target_cols]\n",
        "#dff['Date'] = pd.to_datetime(dff['Date'], format='%m/%d/%Y').dt.floor('D')\n",
        "df_long = pd.melt(dff, id_vars=['Stn Name', 'Date'],\n",
        "                  value_vars=['Precip (in)', 'Max Air Temp (F)', 'Min Air Temp (F)', 'Avg Air Temp (F)', 'Avg Rel Hum (%)','Avg Wind Speed (mph)']).dropna()"
      ]
    },
    {
      "cell_type": "code",
      "execution_count": null,
      "id": "f3c5d5e4-4da9-4a17-a593-a40b4389155f",
      "metadata": {
        "id": "f3c5d5e4-4da9-4a17-a593-a40b4389155f"
      },
      "outputs": [],
      "source": [
        "station_dropdown = widgets.Dropdown(\n",
        "    options=df_long['Stn Name'].unique().tolist(),\n",
        "    value='Diamond Valley Lake',\n",
        "    description='Lake:'\n",
        ")\n",
        "\n",
        "variable_dropdown = widgets.Dropdown(\n",
        "    options=df_long['variable'].unique().tolist(),\n",
        "    value='Precip (in)',\n",
        "    description='Variable:'\n",
        ")\n",
        "\n"
      ]
    },
    {
      "cell_type": "code",
      "execution_count": null,
      "id": "d43987d8-d1b7-4f49-b211-da1591136b91",
      "metadata": {
        "id": "d43987d8-d1b7-4f49-b211-da1591136b91"
      },
      "outputs": [],
      "source": [
        "# Update plot function\n",
        "def update_plot(*args):\n",
        "    source = station_dropdown.value\n",
        "    parameter = variable_dropdown.value\n",
        "\n",
        "    filtered = df_long[(df_long['Stn Name'] == source) & (df_long['variable'] == parameter)][['Date', 'value']]\n",
        "        #.sort_values('Date')\n",
        "    #filtered['Date'] = pd.to_datetime(filtered['Date'])\n",
        "    with fig.batch_update():\n",
        "        fig.data[0].x = list(filtered['Date'])\n",
        "        fig.data[0].y = list(filtered['value'])\n",
        "        fig.layout.yaxis.title = parameter\n",
        "        fig.layout.title = f'{parameter} from {source}'"
      ]
    },
    {
      "cell_type": "code",
      "execution_count": null,
      "id": "e1cc913a-7818-4aaf-95e5-a67560ab64ad",
      "metadata": {
        "id": "e1cc913a-7818-4aaf-95e5-a67560ab64ad"
      },
      "outputs": [],
      "source": [
        "# Observe dropdown changes\n",
        "station_dropdown.observe(update_plot, names='value')\n",
        "variable_dropdown.observe(update_plot, names='value')\n",
        "#zoom_slider.observe(update_zoom, names='value')"
      ]
    },
    {
      "cell_type": "code",
      "execution_count": null,
      "id": "7b30039c-4062-4776-b044-8a96af314476",
      "metadata": {
        "id": "7b30039c-4062-4776-b044-8a96af314476",
        "outputId": "f38f006d-b2fe-42d3-a71e-23fffe600714",
        "colab": {
          "referenced_widgets": [
            "271ae24a8b1c4061af8a37348505cb8b"
          ]
        }
      },
      "outputs": [
        {
          "data": {
            "application/vnd.jupyter.widget-view+json": {
              "model_id": "271ae24a8b1c4061af8a37348505cb8b",
              "version_major": 2,
              "version_minor": 0
            },
            "text/plain": [
              "VBox(children=(HBox(children=(Dropdown(description='Lake:', options=('Diamond Valley Lake', 'Silverwood Lake',…"
            ]
          },
          "metadata": {},
          "output_type": "display_data"
        }
      ],
      "source": [
        "# Create FigureWidget\n",
        "fig = go.FigureWidget()\n",
        "fig.add_scatter(mode='lines')\n",
        "fig.update_layout(width=600, height=400,\n",
        "    xaxis=dict(\n",
        "        rangeselector=dict(\n",
        "            buttons=list([\n",
        "                dict(count=7,\n",
        "                     label=\"1 week\", # The 'step' is day, but the 'count' makes it a week\n",
        "                     step=\"day\",\n",
        "                     stepmode=\"backward\"),\n",
        "                dict(count=1,\n",
        "                     label=\"1 m\",\n",
        "                     step=\"month\",\n",
        "                     stepmode=\"backward\"),\n",
        "                dict(count=6,\n",
        "                     label=\"6 m\",\n",
        "                     step=\"month\",\n",
        "                     stepmode=\"backward\"),\n",
        "                dict(count=1,\n",
        "                     label=\"YTD\",\n",
        "                     step=\"year\",\n",
        "                     stepmode=\"todate\"),\n",
        "                dict(count=1,\n",
        "                     label=\"1 year\",\n",
        "                     step=\"year\",\n",
        "                     stepmode=\"backward\"),\n",
        "                dict(step=\"all\")\n",
        "            ])\n",
        "        ),\n",
        "        rangeslider=dict(\n",
        "            visible=True\n",
        "        ),\n",
        "        type=\"date\"\n",
        "    )\n",
        ")\n",
        "\n",
        "# Initial render\n",
        "\n",
        "update_plot()\n",
        "#fig.update_xaxes(\n",
        "#    tickformat=\"%Y-%m-%d\"  # Customize the date format here\n",
        "#)\n",
        "# Display with dropdowns on top\n",
        "ui = VBox([\n",
        "    HBox([station_dropdown, variable_dropdown]),\n",
        "    fig\n",
        "])\n",
        "display(ui)"
      ]
    }
  ],
  "metadata": {
    "kernelspec": {
      "display_name": "Python 3 (ipykernel)",
      "language": "python",
      "name": "python3"
    },
    "language_info": {
      "codemirror_mode": {
        "name": "ipython",
        "version": 3
      },
      "file_extension": ".py",
      "mimetype": "text/x-python",
      "name": "python",
      "nbconvert_exporter": "python",
      "pygments_lexer": "ipython3",
      "version": "3.11.13"
    },
    "colab": {
      "provenance": [],
      "include_colab_link": true
    }
  },
  "nbformat": 4,
  "nbformat_minor": 5
}